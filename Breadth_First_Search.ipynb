{
 "cells": [
  {
   "cell_type": "code",
   "execution_count": null,
   "metadata": {},
   "outputs": [],
   "source": []
  },
  {
   "cell_type": "code",
   "execution_count": null,
   "metadata": {},
   "outputs": [],
   "source": [
    "# grafo implementado com um dicionário\n",
    "grafo = {'A': ['B','C', 'E'],\n",
    "         'B': ['A','D', 'E'],\n",
    "         'C': ['A','F', 'G'],\n",
    "         'D': ['B'],\n",
    "         'E': ['A','B','D'],\n",
    "         'F': ['C'],\n",
    "         'G': ['C']}\n",
    "\n",
    "\n",
    "# visita todos os nós do grafo (nós conectados) utilizando Busca em Largura\n",
    "def bfs(grafo, inicio):\n",
    "    fechados = []\n",
    "    abertos = [inicio]\n",
    "    niveis = {}         # dicionário para acompanhar os níveis visitados\n",
    "    niveis[inicio]= 0    # profundidado do nó inicial é zero\n",
    "    visitado= [inicio]     # para evitar inserir o mesmo nó duas vezes no arquivo aberto\n",
    "\n",
    "    # repete até que todos os nós tenham sido verificados\n",
    "    while abertos:\n",
    "       # insere o nó mais razo (primeiro nó) em abertos\n",
    "        node = abertos.pop(0)\n",
    "        fechados.append(node)\n",
    "        vizinhos = grafo[node]\n",
    "\n",
    "        # adiciona vizinhos do nó em abertos\n",
    "        for vizinho in vizinhos:\n",
    "            if vizinho not in visitado:\n",
    "                abertos.append(vizinho)\n",
    "                visitado.append(vizinho)\n",
    "                niveis[vizinho]= niveis[node]+1\n",
    "                print(vizinho, \">>\", niveis[vizinho])\n",
    "    print(niveis)\n",
    "    return fechados\n",
    "\n",
    "resp = bfs(grafo,'A') # returns ['A', 'B', 'C', 'E', 'D', 'F', 'G']\n",
    "print(resp)"
   ]
  }
 ],
 "metadata": {
  "kernelspec": {
   "display_name": "Python 3",
   "language": "python",
   "name": "python3"
  },
  "language_info": {
   "codemirror_mode": {
    "name": "ipython",
    "version": 3
   },
   "file_extension": ".py",
   "mimetype": "text/x-python",
   "name": "python",
   "nbconvert_exporter": "python",
   "pygments_lexer": "ipython3",
   "version": "3.6.5"
  }
 },
 "nbformat": 4,
 "nbformat_minor": 2
}
