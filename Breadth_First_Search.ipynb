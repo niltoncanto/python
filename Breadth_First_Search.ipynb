{
 "cells": [
  {
   "cell_type": "markdown",
   "metadata": {},
   "source": [
    "Busca em Largura - Breadfh First Search"
   ]
  },
  {
   "cell_type": "code",
   "execution_count": 65,
   "metadata": {
    "collapsed": true
   },
   "outputs": [
    {
     "name": "stdout",
     "output_type": "stream",
     "text": [
      "B >> 1\n",
      "C >> 1\n",
      "D >> 1\n",
      "E >> 2\n",
      "F >> 2\n",
      "G >> 2\n",
      "H >> 2\n",
      "I >> 3\n",
      "J >> 3\n",
      "L >> 3\n",
      "M >> 3\n",
      "N >> 4\n",
      "{'A': 0, 'B': 1, 'C': 1, 'D': 1, 'E': 2, 'F': 2, 'G': 2, 'H': 2, 'I': 3, 'J': 3, 'L': 3, 'M': 3, 'N': 4}\n",
      "['A', 'B', 'C', 'D', 'E', 'F', 'G', 'H', 'I', 'J', 'L', 'M', 'N']\n"
     ]
    }
   ],
   "source": [
    "# grafo implementado com um dicionário\n",
    "grafo = {'A': ['B','C', 'D'],\n",
    "         'B': ['A', 'E', 'F'],\n",
    "         'C': ['A','G'],\n",
    "         'D': ['A','H'],\n",
    "         'E': ['B','I'],\n",
    "         'F': ['B','J'],\n",
    "         'G': ['C','L'],\n",
    "         'H': ['D','M'],\n",
    "         'I': ['E'],\n",
    "         'J': ['F'],\n",
    "         'L': ['G'],\n",
    "         'M': ['H','N'],\n",
    "         'N': ['M']}\n",
    "\n",
    "\n",
    "# visita todos os nós do grafo (nós conectados) utilizando Busca em Largura\n",
    "def bfs(grafo, inicio):\n",
    "    fechados = []\n",
    "    abertos = [inicio]\n",
    "    niveis = {}            # dicionário para acompanhar os níveis visitados\n",
    "    niveis[inicio]= 0      # profundidado do nó inicial é zero\n",
    "    visitado= [inicio]     # para evitar inserir o mesmo nó duas vezes no arquivo aberto\n (poda)",
    "\n",
    "    # repete até que todos os nós tenham sido verificados\n",
    "    while abertos:\n",
    "       # insere o nó mais razo (primeiro nó) em abertos\n",
    "        nodo = abertos.pop(0)\n",
    "        fechados.append(nodo)\n",
    "        vizinhos = grafo[nodo]\n",
    "\n",
    "        # adiciona vizinhos do nó em abertos\n",
    "        for vizinho in vizinhos:\n",
    "            if vizinho not in visitado:\n",
    "                abertos.append(vizinho)\n",
    "                visitado.append(vizinho)\n",
    "                niveis[vizinho]= niveis[nodo]+1\n",
    "                print(vizinho, \">>\", niveis[vizinho])\n",
    "    print(niveis)\n",
    "    return fechados\n",
    "\n",
    "resp = bfs(grafo,'A') # returns ['A', 'B', 'C', 'E', 'D', 'F', 'G']\n",
    "print(resp)"
   ]
  },
  {
   "cell_type": "code",
   "execution_count": 99,
   "metadata": {
    "scrolled": false
   },
   "outputs": [
    {
     "name": "stdout",
     "output_type": "stream",
     "text": [
      "B >> 1\n",
      "C >> 1\n",
      "D >> 1\n",
      "E >> 2\n",
      "F >> 2\n",
      "G >> 2\n",
      "H >> 2\n",
      "I >> 3\n",
      "J >> 3\n",
      "['A', 'B', 'C', 'D', 'E', 'F', 'G']\n",
      "True\n",
      "['A', 'C', 'G']\n"
     ]
    }
   ],
   "source": [
    "# grafo implementado com um dicionário\n",
    "grafo = {'A': ['B','C', 'D'],\n",
    "         'B': ['A', 'E', 'F'],\n",
    "         'C': ['A','G'],\n",
    "         'D': ['A','H'],\n",
    "         'E': ['B','I'],\n",
    "         'F': ['B','J'],\n",
    "         'G': ['C','L'],\n",
    "         'H': ['D','M'],\n",
    "         'I': ['E'],\n",
    "         'J': ['F'],\n",
    "         'L': ['G'],\n",
    "         'M': ['H','N'],\n",
    "         'N': ['M']}\n",
    "\n",
    "\n",
    "# visita todos os nós do grafo (nós conectados) utilizando Busca em Largura\n",
    "def bfs(grafo, inicio,alvo):\n",
    "    fechados = []\n",
    "    abertos = [inicio]\n",
    "    niveis = {}            # dicionário para acompanhar os níveis visitados\n",
    "    niveis[inicio]= 0      # profundidado do nó inicial é zero\n",
    "    visitado= [inicio]     # para evitar inserir o mesmo nó duas vezes no arquivo aberto\n",
    "\n",
    "    # repete até que todos os nós tenham sido verificados\n",
    "    achou=False\n",
    "    caminho=[]\n",
    "    while abertos:\n",
    "       # insere o nó mais razo (primeiro nó) em abertos\n",
    "        nodo = abertos.pop(0)\n",
    "        fechados.append(nodo)\n",
    "        vizinhos = grafo[nodo]\n",
    "        if(nodo==alvo):\n",
    "            achou=True\n",
    "            caminho.insert(0,nodo)\n",
    "            vizinhosdopai=grafo[nodo]\n",
    "            pai=vizinhosdopai[0]\n",
    "            while pai!=inicio:\n",
    "                caminho.insert(0,pai)\n",
    "                vizinhosdopai=grafo[pai]\n",
    "                pai=vizinhosdopai[0]\n",
    "            caminho.insert(0,pai)\n",
    "            print(fechados)\n",
    "            print(achou)\n",
    "            return caminho\n",
    "        \n",
    "        # adiciona vizinhos do nó em abertos\n",
    "        for vizinho in vizinhos:\n",
    "            if vizinho not in visitado:\n",
    "                abertos.append(vizinho)\n",
    "                visitado.append(vizinho)\n",
    "                niveis[vizinho]= niveis[nodo]+1\n",
    "                print(vizinho, \">>\", niveis[vizinho])\n",
    "    \n",
    "\n",
    "    print(caminho)\n",
    "    print(achou)  \n",
    "    return fechados       \n",
    "\n",
    "\n",
    "resp = bfs(grafo,'A','G')\n",
    "print(resp)\n"
   ]
  },
  {
   "cell_type": "code",
   "execution_count": null,
   "metadata": {},
   "outputs": [],
   "source": []
  }
 ],
 "metadata": {
  "kernelspec": {
   "display_name": "Python 3",
   "language": "python",
   "name": "python3"
  },
  "language_info": {
   "codemirror_mode": {
    "name": "ipython",
    "version": 3
   },
   "file_extension": ".py",
   "mimetype": "text/x-python",
   "name": "python",
   "nbconvert_exporter": "python",
   "pygments_lexer": "ipython3",
   "version": "3.6.5"
  }
 },
 "nbformat": 4,
 "nbformat_minor": 2
}
